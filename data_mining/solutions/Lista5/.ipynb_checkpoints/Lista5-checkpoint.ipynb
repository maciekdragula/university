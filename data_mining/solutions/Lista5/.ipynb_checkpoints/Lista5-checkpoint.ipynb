{
 "cells": [
  {
   "cell_type": "code",
   "execution_count": 6,
   "metadata": {},
   "outputs": [],
   "source": [
    "import numpy as np\n",
    "import pandas as pd\n",
    "import scipy.stats as sstats\n",
    "import csv\n",
    "from sklearn import datasets\n",
    "from sklearn import tree\n",
    "from sklearn.ensemble import RandomForestClassifier\n",
    "from sklearn.ensemble import ExtraTreesClassifier\n",
    "from sklearn.model_selection import cross_val_score\n",
    "from sklearn.metrics import confusion_matrix"
   ]
  },
  {
   "cell_type": "markdown",
   "metadata": {},
   "source": [
    "# Zadanie 1"
   ]
  },
  {
   "cell_type": "markdown",
   "metadata": {},
   "source": [
    "## a)"
   ]
  },
  {
   "cell_type": "code",
   "execution_count": 3,
   "metadata": {},
   "outputs": [],
   "source": [
    "def knn(trainX, trainY, testX, ks):\n",
    "    dists = np.sum(trainX**2, axis=1).reshape(1, -1) + np.sum(testX**2, axis=1).reshape(-1, 1)\n",
    "    dists -= 2 * testX.dot(trainX.T)\n",
    "        \n",
    "    cloest = np.argsort(dists, axis=1)\n",
    "    \n",
    "    targets = trainY[cloest]\n",
    "    \n",
    "    predictions = {}\n",
    "    for k in ks:\n",
    "        testY = sstats.mode(targets[:, :k], axis=1)[0]\n",
    "        testY = testY.ravel()\n",
    "        predictions[k] = testY\n",
    "    return predictions"
   ]
  },
  {
   "cell_type": "markdown",
   "metadata": {},
   "source": [
    "## b)"
   ]
  },
  {
   "cell_type": "code",
   "execution_count": 4,
   "metadata": {},
   "outputs": [],
   "source": [
    "iris = datasets.load_iris()\n",
    "iris_data = iris.data\n",
    "iris_target = iris.target"
   ]
  },
  {
   "cell_type": "code",
   "execution_count": 5,
   "metadata": {},
   "outputs": [
    {
     "data": {
      "text/html": [
       "<div>\n",
       "<style scoped>\n",
       "    .dataframe tbody tr th:only-of-type {\n",
       "        vertical-align: middle;\n",
       "    }\n",
       "\n",
       "    .dataframe tbody tr th {\n",
       "        vertical-align: top;\n",
       "    }\n",
       "\n",
       "    .dataframe thead th {\n",
       "        text-align: right;\n",
       "    }\n",
       "</style>\n",
       "<table border=\"1\" class=\"dataframe\">\n",
       "  <thead>\n",
       "    <tr style=\"text-align: right;\">\n",
       "      <th></th>\n",
       "      <th>average error</th>\n",
       "    </tr>\n",
       "  </thead>\n",
       "  <tbody>\n",
       "    <tr>\n",
       "      <th>k=3</th>\n",
       "      <td>0.042</td>\n",
       "    </tr>\n",
       "    <tr>\n",
       "      <th>k=5</th>\n",
       "      <td>0.039</td>\n",
       "    </tr>\n",
       "    <tr>\n",
       "      <th>k=7</th>\n",
       "      <td>0.037</td>\n",
       "    </tr>\n",
       "    <tr>\n",
       "      <th>k=9</th>\n",
       "      <td>0.034</td>\n",
       "    </tr>\n",
       "    <tr>\n",
       "      <th>k=11</th>\n",
       "      <td>0.035</td>\n",
       "    </tr>\n",
       "    <tr>\n",
       "      <th>k=13</th>\n",
       "      <td>0.038</td>\n",
       "    </tr>\n",
       "    <tr>\n",
       "      <th>k=15</th>\n",
       "      <td>0.042</td>\n",
       "    </tr>\n",
       "    <tr>\n",
       "      <th>k=17</th>\n",
       "      <td>0.044</td>\n",
       "    </tr>\n",
       "    <tr>\n",
       "      <th>k=19</th>\n",
       "      <td>0.049</td>\n",
       "    </tr>\n",
       "  </tbody>\n",
       "</table>\n",
       "</div>"
      ],
      "text/plain": [
       "      average error\n",
       "k=3           0.042\n",
       "k=5           0.039\n",
       "k=7           0.037\n",
       "k=9           0.034\n",
       "k=11          0.035\n",
       "k=13          0.038\n",
       "k=15          0.042\n",
       "k=17          0.044\n",
       "k=19          0.049"
      ]
     },
     "execution_count": 5,
     "metadata": {},
     "output_type": "execute_result"
    }
   ],
   "source": [
    "N = 500\n",
    "ks = [3, 5, 7, 9, 11, 13, 15, 17, 19]\n",
    "\n",
    "\n",
    "columns = [\"iter \" + str(i) for i in range(N)]\n",
    "index = [\"k=\" + str(k) for k in ks]\n",
    "df = pd.DataFrame(index=index)\n",
    "\n",
    "for i in range(N):\n",
    "    idxs = np.arange(150)\n",
    "    np.random.shuffle(idxs)\n",
    "    \n",
    "    train_idx = idxs[:100]\n",
    "    test_idx = idxs[100:]\n",
    "    \n",
    "    preds = knn(iris_data[train_idx, :], iris_target[train_idx], iris_data[test_idx, :], ks)\n",
    "    \n",
    "    errs = []\n",
    "    true_targets = iris_target[test_idx]\n",
    "    for pred in preds.values():\n",
    "\n",
    "        correct = np.sum(np.equal(true_targets, pred))\n",
    "        errs.append(1 - correct / 50)\n",
    "    df[\"iter \" + str(i)] = errs\n",
    "\n",
    "res_df = pd.DataFrame(index=index)\n",
    "res_df['average error'] = df.mean(numeric_only=True, axis=1).round(3)\n",
    "res_df"
   ]
  },
  {
   "cell_type": "markdown",
   "metadata": {},
   "source": [
    "## c)"
   ]
  },
  {
   "cell_type": "code",
   "execution_count": 6,
   "metadata": {},
   "outputs": [],
   "source": [
    "digits_tra = pd.read_csv('optdigits.tra', header=None)\n",
    "digits_tes = pd.read_csv('optdigits.tes', header=None)\n",
    "digits_data = pd.concat([digits_tra.iloc[:, :64], digits_tes.iloc[:, :64]],ignore_index=True)\n",
    "digits_target = pd.concat([digits_tra.iloc[:, 64], digits_tes.iloc[:, 64]],ignore_index=True)"
   ]
  },
  {
   "cell_type": "code",
   "execution_count": 10,
   "metadata": {},
   "outputs": [
    {
     "data": {
      "text/html": [
       "<div>\n",
       "<style scoped>\n",
       "    .dataframe tbody tr th:only-of-type {\n",
       "        vertical-align: middle;\n",
       "    }\n",
       "\n",
       "    .dataframe tbody tr th {\n",
       "        vertical-align: top;\n",
       "    }\n",
       "\n",
       "    .dataframe thead th {\n",
       "        text-align: right;\n",
       "    }\n",
       "</style>\n",
       "<table border=\"1\" class=\"dataframe\">\n",
       "  <thead>\n",
       "    <tr style=\"text-align: right;\">\n",
       "      <th></th>\n",
       "      <th>average error</th>\n",
       "    </tr>\n",
       "  </thead>\n",
       "  <tbody>\n",
       "    <tr>\n",
       "      <th>k=3</th>\n",
       "      <td>0.014</td>\n",
       "    </tr>\n",
       "    <tr>\n",
       "      <th>k=5</th>\n",
       "      <td>0.015</td>\n",
       "    </tr>\n",
       "    <tr>\n",
       "      <th>k=7</th>\n",
       "      <td>0.016</td>\n",
       "    </tr>\n",
       "    <tr>\n",
       "      <th>k=9</th>\n",
       "      <td>0.016</td>\n",
       "    </tr>\n",
       "    <tr>\n",
       "      <th>k=11</th>\n",
       "      <td>0.017</td>\n",
       "    </tr>\n",
       "    <tr>\n",
       "      <th>k=13</th>\n",
       "      <td>0.018</td>\n",
       "    </tr>\n",
       "    <tr>\n",
       "      <th>k=15</th>\n",
       "      <td>0.019</td>\n",
       "    </tr>\n",
       "    <tr>\n",
       "      <th>k=17</th>\n",
       "      <td>0.020</td>\n",
       "    </tr>\n",
       "    <tr>\n",
       "      <th>k=19</th>\n",
       "      <td>0.021</td>\n",
       "    </tr>\n",
       "  </tbody>\n",
       "</table>\n",
       "</div>"
      ],
      "text/plain": [
       "      average error\n",
       "k=3           0.014\n",
       "k=5           0.015\n",
       "k=7           0.016\n",
       "k=9           0.016\n",
       "k=11          0.017\n",
       "k=13          0.018\n",
       "k=15          0.019\n",
       "k=17          0.020\n",
       "k=19          0.021"
      ]
     },
     "execution_count": 10,
     "metadata": {},
     "output_type": "execute_result"
    }
   ],
   "source": [
    "N = 100\n",
    "ks = [3, 5, 7, 9, 11, 13, 15, 17, 19]\n",
    "\n",
    "\n",
    "columns = [\"iter \" + str(i) for i in range(N)]\n",
    "index = [\"k=\" + str(k) for k in ks]\n",
    "df = pd.DataFrame(index=index)\n",
    "threshold = len(digits_data) * 2 // 3\n",
    "\n",
    "for i in range(N):\n",
    "    idxs = np.arange(len(digits_data))\n",
    "    np.random.shuffle(idxs)\n",
    "    \n",
    "    \n",
    "    train_idx = idxs[:threshold]\n",
    "    test_idx = idxs[threshold:]\n",
    "    trainX = digits_data.iloc[train_idx, :].to_numpy()\n",
    "    trainY = digits_target.iloc[train_idx].to_numpy()\n",
    "    testX = digits_data.iloc[test_idx, :].to_numpy()\n",
    "    \n",
    "    preds = knn(trainX, trainY, testX, ks)\n",
    "    \n",
    "    errs = []\n",
    "    true_targets = digits_target.iloc[test_idx].to_numpy()\n",
    "    for pred in preds.values():\n",
    "        \n",
    "\n",
    "        correct = np.sum(np.equal(true_targets, pred))\n",
    "        errs.append(1 - correct / (len(digits_data) - threshold))\n",
    "    df[\"iter \" + str(i)] = errs\n",
    "\n",
    "res_df = pd.DataFrame(index=index)\n",
    "res_df['average error'] = df.mean(numeric_only=True, axis=1).round(3)\n",
    "res_df"
   ]
  },
  {
   "cell_type": "markdown",
   "metadata": {},
   "source": [
    "## d)"
   ]
  },
  {
   "cell_type": "code",
   "execution_count": 92,
   "metadata": {},
   "outputs": [],
   "source": [
    "def knn_cross_valid(dataX, dataY, N=10):\n",
    "    \n",
    "    ks = [3, 5, 7, 9, 11, 13, 15, 17, 19]\n",
    "\n",
    "    columns = [\"iter \" + str(i) for i in range(N)]\n",
    "    index = [\"k=\" + str(k) for k in ks]\n",
    "    df = pd.DataFrame(index=index)\n",
    "    \n",
    "    \n",
    "    idxs = np.arange(len(dataY))\n",
    "    np.random.shuffle(idxs)\n",
    "    dataX = dataX[idxs, :]\n",
    "    dataY = dataY[idxs]\n",
    "    dataX = np.split(dataX, N)\n",
    "    dataY = np.split(dataY, N)\n",
    "    \n",
    "    \n",
    "    for i in range(N):\n",
    "        trainX = np.vstack(dataX[:i] + dataX[i + 1:])\n",
    "        trainY = np.hstack(dataY[:i] + dataY[i + 1:])\n",
    "        testX = dataX[i]\n",
    "        testY = dataY[i]\n",
    "\n",
    "        preds = knn(trainX, trainY, testX, ks)\n",
    "    \n",
    "        errs = []\n",
    "        for pred in preds.values():\n",
    "            correct = np.sum(np.equal(testY, pred))\n",
    "            errs.append(1 - correct / testY.shape[0])\n",
    "        df[\"iter \" + str(i)] = errs\n",
    "\n",
    "    res_df = pd.DataFrame(index=index)\n",
    "    res_df['average error'] = df.mean(numeric_only=True, axis=1).round(3)\n",
    "    return res_df "
   ]
  },
  {
   "cell_type": "code",
   "execution_count": 93,
   "metadata": {},
   "outputs": [
    {
     "data": {
      "text/html": [
       "<div>\n",
       "<style scoped>\n",
       "    .dataframe tbody tr th:only-of-type {\n",
       "        vertical-align: middle;\n",
       "    }\n",
       "\n",
       "    .dataframe tbody tr th {\n",
       "        vertical-align: top;\n",
       "    }\n",
       "\n",
       "    .dataframe thead th {\n",
       "        text-align: right;\n",
       "    }\n",
       "</style>\n",
       "<table border=\"1\" class=\"dataframe\">\n",
       "  <thead>\n",
       "    <tr style=\"text-align: right;\">\n",
       "      <th></th>\n",
       "      <th>average error</th>\n",
       "    </tr>\n",
       "  </thead>\n",
       "  <tbody>\n",
       "    <tr>\n",
       "      <th>k=3</th>\n",
       "      <td>0.040</td>\n",
       "    </tr>\n",
       "    <tr>\n",
       "      <th>k=5</th>\n",
       "      <td>0.033</td>\n",
       "    </tr>\n",
       "    <tr>\n",
       "      <th>k=7</th>\n",
       "      <td>0.040</td>\n",
       "    </tr>\n",
       "    <tr>\n",
       "      <th>k=9</th>\n",
       "      <td>0.033</td>\n",
       "    </tr>\n",
       "    <tr>\n",
       "      <th>k=11</th>\n",
       "      <td>0.040</td>\n",
       "    </tr>\n",
       "    <tr>\n",
       "      <th>k=13</th>\n",
       "      <td>0.027</td>\n",
       "    </tr>\n",
       "    <tr>\n",
       "      <th>k=15</th>\n",
       "      <td>0.027</td>\n",
       "    </tr>\n",
       "    <tr>\n",
       "      <th>k=17</th>\n",
       "      <td>0.027</td>\n",
       "    </tr>\n",
       "    <tr>\n",
       "      <th>k=19</th>\n",
       "      <td>0.027</td>\n",
       "    </tr>\n",
       "  </tbody>\n",
       "</table>\n",
       "</div>"
      ],
      "text/plain": [
       "      average error\n",
       "k=3           0.040\n",
       "k=5           0.033\n",
       "k=7           0.040\n",
       "k=9           0.033\n",
       "k=11          0.040\n",
       "k=13          0.027\n",
       "k=15          0.027\n",
       "k=17          0.027\n",
       "k=19          0.027"
      ]
     },
     "execution_count": 93,
     "metadata": {},
     "output_type": "execute_result"
    }
   ],
   "source": [
    "knn_cross_valid(iris_data, iris_target)"
   ]
  },
  {
   "cell_type": "code",
   "execution_count": 94,
   "metadata": {},
   "outputs": [
    {
     "data": {
      "text/html": [
       "<div>\n",
       "<style scoped>\n",
       "    .dataframe tbody tr th:only-of-type {\n",
       "        vertical-align: middle;\n",
       "    }\n",
       "\n",
       "    .dataframe tbody tr th {\n",
       "        vertical-align: top;\n",
       "    }\n",
       "\n",
       "    .dataframe thead th {\n",
       "        text-align: right;\n",
       "    }\n",
       "</style>\n",
       "<table border=\"1\" class=\"dataframe\">\n",
       "  <thead>\n",
       "    <tr style=\"text-align: right;\">\n",
       "      <th></th>\n",
       "      <th>average error</th>\n",
       "    </tr>\n",
       "  </thead>\n",
       "  <tbody>\n",
       "    <tr>\n",
       "      <th>k=3</th>\n",
       "      <td>0.012</td>\n",
       "    </tr>\n",
       "    <tr>\n",
       "      <th>k=5</th>\n",
       "      <td>0.013</td>\n",
       "    </tr>\n",
       "    <tr>\n",
       "      <th>k=7</th>\n",
       "      <td>0.014</td>\n",
       "    </tr>\n",
       "    <tr>\n",
       "      <th>k=9</th>\n",
       "      <td>0.014</td>\n",
       "    </tr>\n",
       "    <tr>\n",
       "      <th>k=11</th>\n",
       "      <td>0.014</td>\n",
       "    </tr>\n",
       "    <tr>\n",
       "      <th>k=13</th>\n",
       "      <td>0.015</td>\n",
       "    </tr>\n",
       "    <tr>\n",
       "      <th>k=15</th>\n",
       "      <td>0.015</td>\n",
       "    </tr>\n",
       "    <tr>\n",
       "      <th>k=17</th>\n",
       "      <td>0.016</td>\n",
       "    </tr>\n",
       "    <tr>\n",
       "      <th>k=19</th>\n",
       "      <td>0.017</td>\n",
       "    </tr>\n",
       "  </tbody>\n",
       "</table>\n",
       "</div>"
      ],
      "text/plain": [
       "      average error\n",
       "k=3           0.012\n",
       "k=5           0.013\n",
       "k=7           0.014\n",
       "k=9           0.014\n",
       "k=11          0.014\n",
       "k=13          0.015\n",
       "k=15          0.015\n",
       "k=17          0.016\n",
       "k=19          0.017"
      ]
     },
     "execution_count": 94,
     "metadata": {},
     "output_type": "execute_result"
    }
   ],
   "source": [
    "knn_cross_valid(digits_data.to_numpy(), digits_target.to_numpy())"
   ]
  },
  {
   "cell_type": "markdown",
   "metadata": {},
   "source": [
    "# Zadanie 2"
   ]
  },
  {
   "cell_type": "code",
   "execution_count": 139,
   "metadata": {},
   "outputs": [],
   "source": [
    "titanic_df = pd.read_csv('titanic.csv')\n",
    "# usunięcie z zestawu danych atrybutów nieistotnych dla klasyfikacji\n",
    "titanic_df = titanic_df.drop(['PassengerId', 'Name', 'Ticket', 'Cabin'], axis = 1)\n",
    "titanic_df = titanic_df.dropna()\n",
    "# zmiana kodowania atrybutów nominalnych w zestawie danych\n",
    "titanic_df['Sex'] = pd.Categorical(titanic_df['Sex']).codes\n",
    "titanic_df['Embarked'] = pd.Categorical(titanic_df['Embarked']).codes\n",
    "# rozbicie zestawu danych na dane opisujące pasażera (X) i etykietę klasy (y)\n",
    "titanic_data = titanic_df.drop('Survived', axis = 1)\n",
    "titanic_target = titanic_df['Survived']"
   ]
  },
  {
   "cell_type": "markdown",
   "metadata": {},
   "source": [
    "## a)"
   ]
  },
  {
   "cell_type": "code",
   "execution_count": 140,
   "metadata": {},
   "outputs": [],
   "source": [
    "t_gini = tree.DecisionTreeClassifier()\n",
    "t_gini = t_gini.fit(titanic_data, titanic_target) # default criterion is 'gini'\n",
    "with open('titanic_gini.dot', \"w\") as f:\n",
    "    tree.export_graphviz(t_gini, out_file=f, feature_names=titanic_data.columns)"
   ]
  },
  {
   "cell_type": "code",
   "execution_count": 141,
   "metadata": {},
   "outputs": [],
   "source": [
    "t_entropy = tree.DecisionTreeClassifier(criterion='entropy')\n",
    "t_entropy = t_entropy.fit(titanic_data, titanic_target) # default criterion is 'gini'\n",
    "with open('titanic_entropy.dot', \"w\") as f:\n",
    "    tree.export_graphviz(t_entropy, out_file=f, feature_names=titanic_data.columns)"
   ]
  },
  {
   "cell_type": "markdown",
   "metadata": {},
   "source": [
    "## b)"
   ]
  },
  {
   "cell_type": "code",
   "execution_count": 142,
   "metadata": {},
   "outputs": [
    {
     "name": "stdout",
     "output_type": "stream",
     "text": [
      "0.9892008639308856\n",
      "0.7590361445783133\n"
     ]
    }
   ],
   "source": [
    "M = len(titanic_data)\n",
    "threshold = round(M * 0.65)\n",
    "idxs = np.arange(M)\n",
    "np.random.shuffle(idxs)\n",
    "    \n",
    "train_idx = idxs[:threshold]\n",
    "test_idx = idxs[threshold:]\n",
    "trainX = titanic_data.iloc[train_idx, :]\n",
    "trainY = titanic_target.iloc[train_idx]\n",
    "testX = titanic_data.iloc[test_idx, :]\n",
    "testY = titanic_target.iloc[test_idx]\n",
    "\n",
    "\n",
    "t = tree.DecisionTreeClassifier()\n",
    "t = t.fit(trainX, trainY)\n",
    "\n",
    "print(t.score(trainX, trainY))\n",
    "print(t.score(testX, testY))"
   ]
  },
  {
   "cell_type": "markdown",
   "metadata": {},
   "source": [
    "## c)"
   ]
  },
  {
   "cell_type": "code",
   "execution_count": 143,
   "metadata": {},
   "outputs": [
    {
     "data": {
      "text/html": [
       "<div>\n",
       "<style scoped>\n",
       "    .dataframe tbody tr th:only-of-type {\n",
       "        vertical-align: middle;\n",
       "    }\n",
       "\n",
       "    .dataframe tbody tr th {\n",
       "        vertical-align: top;\n",
       "    }\n",
       "\n",
       "    .dataframe thead th {\n",
       "        text-align: right;\n",
       "    }\n",
       "</style>\n",
       "<table border=\"1\" class=\"dataframe\">\n",
       "  <thead>\n",
       "    <tr style=\"text-align: right;\">\n",
       "      <th></th>\n",
       "      <th>2</th>\n",
       "      <th>3</th>\n",
       "      <th>4</th>\n",
       "      <th>5</th>\n",
       "      <th>6</th>\n",
       "      <th>7</th>\n",
       "      <th>8</th>\n",
       "      <th>9</th>\n",
       "      <th>10</th>\n",
       "      <th>11</th>\n",
       "      <th>12</th>\n",
       "      <th>13</th>\n",
       "      <th>14</th>\n",
       "      <th>15</th>\n",
       "      <th>16</th>\n",
       "      <th>17</th>\n",
       "      <th>18</th>\n",
       "      <th>19</th>\n",
       "    </tr>\n",
       "  </thead>\n",
       "  <tbody>\n",
       "    <tr>\n",
       "      <th>train score</th>\n",
       "      <td>0.788337</td>\n",
       "      <td>0.814255</td>\n",
       "      <td>0.846652</td>\n",
       "      <td>0.863931</td>\n",
       "      <td>0.874730</td>\n",
       "      <td>0.889849</td>\n",
       "      <td>0.920086</td>\n",
       "      <td>0.933045</td>\n",
       "      <td>0.956803</td>\n",
       "      <td>0.965443</td>\n",
       "      <td>0.971922</td>\n",
       "      <td>0.980562</td>\n",
       "      <td>0.984881</td>\n",
       "      <td>0.984881</td>\n",
       "      <td>0.989201</td>\n",
       "      <td>0.989201</td>\n",
       "      <td>0.989201</td>\n",
       "      <td>0.989201</td>\n",
       "    </tr>\n",
       "    <tr>\n",
       "      <th>test score</th>\n",
       "      <td>0.763052</td>\n",
       "      <td>0.827309</td>\n",
       "      <td>0.779116</td>\n",
       "      <td>0.795181</td>\n",
       "      <td>0.803213</td>\n",
       "      <td>0.807229</td>\n",
       "      <td>0.787149</td>\n",
       "      <td>0.775100</td>\n",
       "      <td>0.742972</td>\n",
       "      <td>0.742972</td>\n",
       "      <td>0.746988</td>\n",
       "      <td>0.726908</td>\n",
       "      <td>0.759036</td>\n",
       "      <td>0.755020</td>\n",
       "      <td>0.730924</td>\n",
       "      <td>0.738956</td>\n",
       "      <td>0.730924</td>\n",
       "      <td>0.726908</td>\n",
       "    </tr>\n",
       "  </tbody>\n",
       "</table>\n",
       "</div>"
      ],
      "text/plain": [
       "                   2         3         4         5         6         7   \\\n",
       "train score  0.788337  0.814255  0.846652  0.863931  0.874730  0.889849   \n",
       "test score   0.763052  0.827309  0.779116  0.795181  0.803213  0.807229   \n",
       "\n",
       "                   8         9         10        11        12        13  \\\n",
       "train score  0.920086  0.933045  0.956803  0.965443  0.971922  0.980562   \n",
       "test score   0.787149  0.775100  0.742972  0.742972  0.746988  0.726908   \n",
       "\n",
       "                   14        15        16        17        18        19  \n",
       "train score  0.984881  0.984881  0.989201  0.989201  0.989201  0.989201  \n",
       "test score   0.759036  0.755020  0.730924  0.738956  0.730924  0.726908  "
      ]
     },
     "execution_count": 143,
     "metadata": {},
     "output_type": "execute_result"
    }
   ],
   "source": [
    "D = np.arange(2, 20)\n",
    "\n",
    "\n",
    "df = pd.DataFrame(index=['train score', 'test score'], columns=D)\n",
    "\n",
    "for d in D:\n",
    "    t = tree.DecisionTreeClassifier(max_depth=d)\n",
    "    t = t.fit(trainX, trainY)\n",
    "    \n",
    "    df[d] = [t.score(trainX, trainY), t.score(testX, testY)]\n",
    "\n",
    "df.head()"
   ]
  },
  {
   "cell_type": "markdown",
   "metadata": {},
   "source": [
    "## d)"
   ]
  },
  {
   "cell_type": "code",
   "execution_count": 144,
   "metadata": {},
   "outputs": [
    {
     "data": {
      "text/html": [
       "<div>\n",
       "<style scoped>\n",
       "    .dataframe tbody tr th:only-of-type {\n",
       "        vertical-align: middle;\n",
       "    }\n",
       "\n",
       "    .dataframe tbody tr th {\n",
       "        vertical-align: top;\n",
       "    }\n",
       "\n",
       "    .dataframe thead th {\n",
       "        text-align: right;\n",
       "    }\n",
       "</style>\n",
       "<table border=\"1\" class=\"dataframe\">\n",
       "  <thead>\n",
       "    <tr style=\"text-align: right;\">\n",
       "      <th></th>\n",
       "      <th>5</th>\n",
       "      <th>10</th>\n",
       "      <th>15</th>\n",
       "      <th>20</th>\n",
       "      <th>25</th>\n",
       "      <th>30</th>\n",
       "      <th>35</th>\n",
       "      <th>40</th>\n",
       "      <th>45</th>\n",
       "    </tr>\n",
       "  </thead>\n",
       "  <tbody>\n",
       "    <tr>\n",
       "      <th>train score</th>\n",
       "      <td>0.941685</td>\n",
       "      <td>0.907127</td>\n",
       "      <td>0.887689</td>\n",
       "      <td>0.870410</td>\n",
       "      <td>0.870410</td>\n",
       "      <td>0.866091</td>\n",
       "      <td>0.853132</td>\n",
       "      <td>0.848812</td>\n",
       "      <td>0.848812</td>\n",
       "    </tr>\n",
       "    <tr>\n",
       "      <th>test score</th>\n",
       "      <td>0.755020</td>\n",
       "      <td>0.831325</td>\n",
       "      <td>0.815261</td>\n",
       "      <td>0.811245</td>\n",
       "      <td>0.811245</td>\n",
       "      <td>0.795181</td>\n",
       "      <td>0.803213</td>\n",
       "      <td>0.795181</td>\n",
       "      <td>0.795181</td>\n",
       "    </tr>\n",
       "  </tbody>\n",
       "</table>\n",
       "</div>"
      ],
      "text/plain": [
       "                   5         10        15        20        25        30  \\\n",
       "train score  0.941685  0.907127  0.887689  0.870410  0.870410  0.866091   \n",
       "test score   0.755020  0.831325  0.815261  0.811245  0.811245  0.795181   \n",
       "\n",
       "                   35        40        45  \n",
       "train score  0.853132  0.848812  0.848812  \n",
       "test score   0.803213  0.795181  0.795181  "
      ]
     },
     "execution_count": 144,
     "metadata": {},
     "output_type": "execute_result"
    }
   ],
   "source": [
    "L = np.arange(5, 50, 5)\n",
    "\n",
    "\n",
    "df = pd.DataFrame(index=['train score', 'test score'], columns=L)\n",
    "\n",
    "for l in L:\n",
    "    t = tree.DecisionTreeClassifier(min_samples_split=l)\n",
    "    t = t.fit(trainX, trainY)\n",
    "    \n",
    "    df[l] = [t.score(trainX, trainY), t.score(testX, testY)]\n",
    "\n",
    "df.head()"
   ]
  },
  {
   "cell_type": "markdown",
   "metadata": {},
   "source": [
    "## e)"
   ]
  },
  {
   "cell_type": "code",
   "execution_count": 14,
   "metadata": {},
   "outputs": [],
   "source": [
    "def tree_cross_valid(tree, dataX, dataY, N=10, show_conf_mtrx=False):\n",
    "    assert dataX.shape[0] == dataY.shape[0]\n",
    "    assert dataX.shape[0] % N == 0\n",
    "    \n",
    "    idxs = np.arange(len(dataY))\n",
    "    np.random.shuffle(idxs)\n",
    "    dataX = dataX[idxs, :]\n",
    "    dataY = dataY[idxs]\n",
    "    dataX = np.split(dataX, N)\n",
    "    dataY = np.split(dataY, N)\n",
    "    \n",
    "    score = []\n",
    "    for i in range(N):\n",
    "        trainX = np.vstack(dataX[:i] + dataX[i + 1:])\n",
    "        trainY = np.hstack(dataY[:i] + dataY[i + 1:])\n",
    "        testX = dataX[i]\n",
    "        testY = dataY[i]\n",
    "        \n",
    "        tree.fit(trainX, trainY)\n",
    "\n",
    "        if show_conf_mtrx == True:\n",
    "            predY = tree.predict(testX)\n",
    "            print(confusion_matrix(testY, predY))\n",
    "        \n",
    "        score.append(tree.score(testX, testY))\n",
    "\n",
    "    return np.array(score)"
   ]
  },
  {
   "cell_type": "code",
   "execution_count": 148,
   "metadata": {},
   "outputs": [
    {
     "name": "stdout",
     "output_type": "stream",
     "text": [
      "Tree with Gini criterion: 0.7514044943820225\n",
      "Tree with Entropy criterion: 0.7514044943820224\n",
      "Tree with max_depth=5: 0.7949438202247191\n",
      "Tree with min_samples_split=35: 0.7963483146067416\n"
     ]
    }
   ],
   "source": [
    "t_gini = tree.DecisionTreeClassifier()\n",
    "print(\"Tree with Gini criterion:\", tree_cross_valid(t_gini, titanic_data.to_numpy(), titanic_target.to_numpy(), N=8).mean())\n",
    "\n",
    "t_entropy = tree.DecisionTreeClassifier(criterion='entropy')\n",
    "print(\"Tree with Entropy criterion:\", tree_cross_valid(t_entropy, titanic_data.to_numpy(), titanic_target.to_numpy(), N=8).mean())\n",
    "\n",
    "t_max_depth = tree.DecisionTreeClassifier(max_depth=5)\n",
    "print(\"Tree with max_depth=5:\", tree_cross_valid(t_max_depth, titanic_data.to_numpy(), titanic_target.to_numpy(), N=8).mean())\n",
    "\n",
    "t_min_samples_splt = tree.DecisionTreeClassifier(min_samples_split=35)\n",
    "print(\"Tree with min_samples_split=35:\", tree_cross_valid(t_max_depth, titanic_data.to_numpy(), titanic_target.to_numpy(), N=8).mean())"
   ]
  },
  {
   "cell_type": "markdown",
   "metadata": {},
   "source": [
    "# Zadanie 3"
   ]
  },
  {
   "cell_type": "code",
   "execution_count": 153,
   "metadata": {},
   "outputs": [
    {
     "name": "stdout",
     "output_type": "stream",
     "text": [
      "0.9533333333333334\n"
     ]
    }
   ],
   "source": [
    "rf_clf = RandomForestClassifier(n_estimators=20)\n",
    "\n",
    "scores = cross_val_score(rf_clf, iris_data, iris_target, cv=10)\n",
    "# print(scores)\n",
    "print(scores.mean())"
   ]
  },
  {
   "cell_type": "code",
   "execution_count": 154,
   "metadata": {},
   "outputs": [
    {
     "name": "stdout",
     "output_type": "stream",
     "text": [
      "0.9466666666666667\n"
     ]
    }
   ],
   "source": [
    "extra_rf_clf = ExtraTreesClassifier(n_estimators=20)\n",
    "scores = cross_val_score(extra_rf_clf, iris_data, iris_target, cv=10)\n",
    "# print(scores)\n",
    "print(scores.mean())"
   ]
  },
  {
   "cell_type": "code",
   "execution_count": 155,
   "metadata": {},
   "outputs": [
    {
     "name": "stdout",
     "output_type": "stream",
     "text": [
      "0.799459534987704\n"
     ]
    }
   ],
   "source": [
    "rf_clf = RandomForestClassifier(n_estimators=20)\n",
    "\n",
    "scores = cross_val_score(rf_clf, titanic_data.to_numpy(), titanic_target.to_numpy(), cv=10)\n",
    "# print(scores)\n",
    "print(scores.mean())"
   ]
  },
  {
   "cell_type": "code",
   "execution_count": 156,
   "metadata": {},
   "outputs": [
    {
     "name": "stdout",
     "output_type": "stream",
     "text": [
      "0.788190811535882\n"
     ]
    }
   ],
   "source": [
    "extra_rf_clf = ExtraTreesClassifier(n_estimators=20)\n",
    "scores = cross_val_score(extra_rf_clf, titanic_data.to_numpy(), titanic_target.to_numpy(), cv=10)\n",
    "# print(scores)\n",
    "print(scores.mean())"
   ]
  },
  {
   "cell_type": "markdown",
   "metadata": {},
   "source": [
    "# Zadanie 4"
   ]
  },
  {
   "cell_type": "code",
   "execution_count": 175,
   "metadata": {},
   "outputs": [],
   "source": [
    "columns = [\n",
    " \"target\", \"cap-shape\", \"cap-surface\", \"cap-color\", \"bruises?\", \"odor\", \n",
    " \"gill-attachment\", \"gill-spacing\", \"gill-size\", \"gill-color\", \"stalk-shape\", \n",
    " \"stalk-root\", \"stalk-surface-above-ring\", \"stalk-surface-below-ring\", \n",
    " \"stalk-color-above-ring\", \"stalk-color-below-ring\", \"veil-type\", \"veil-color\", \n",
    " \"ring-number\", \"ring-type\", \"spore-print-color\", \"population\", \"habitat\", ]\n",
    "\n",
    "url = 'http://archive.ics.uci.edu/ml/machine-learning-databases/mushroom/agaricus-lepiota.data'\n",
    "mushroom_df = pd.read_csv(url, header=None, names=columns)\n",
    "\n",
    "\n",
    "for name in columns:\n",
    "    mushroom_df[name] = pd.Categorical(mushroom_df[name]).codes\n",
    "    \n",
    "mushroom_df.drop('stalk-root', axis=1, inplace=True)\n",
    "\n",
    "mushroom_data = mushroom_df.drop('target', axis = 1)\n",
    "mushroom_target = mushroom_df['target']"
   ]
  },
  {
   "cell_type": "code",
   "execution_count": 176,
   "metadata": {},
   "outputs": [
    {
     "name": "stdout",
     "output_type": "stream",
     "text": [
      "[[354   0]\n",
      " [  0 323]]\n",
      "[[341   0]\n",
      " [  0 336]]\n",
      "[[339   0]\n",
      " [  0 338]]\n",
      "[[351   0]\n",
      " [  0 326]]\n",
      "[[348   0]\n",
      " [  0 329]]\n",
      "[[363   0]\n",
      " [  0 314]]\n",
      "[[353   0]\n",
      " [  0 324]]\n",
      "[[357   0]\n",
      " [  0 320]]\n",
      "[[340   0]\n",
      " [  0 337]]\n",
      "[[360   0]\n",
      " [  0 317]]\n",
      "[[334   0]\n",
      " [  0 343]]\n",
      "[[368   0]\n",
      " [  0 309]]\n",
      "1.0\n"
     ]
    }
   ],
   "source": [
    "t = tree.DecisionTreeClassifier()\n",
    "scores = tree_cross_valid(t, mushroom_data.to_numpy(), mushroom_target.to_numpy(), N=12, show_conf_mtrx=True)\n",
    "print(scores.mean())"
   ]
  },
  {
   "cell_type": "code",
   "execution_count": 183,
   "metadata": {},
   "outputs": [
    {
     "name": "stdout",
     "output_type": "stream",
     "text": [
      "[[338   4]\n",
      " [  2 333]]\n",
      "[[335  13]\n",
      " [  6 323]]\n",
      "[[335   9]\n",
      " [  3 330]]\n",
      "[[336  14]\n",
      " [  1 326]]\n",
      "[[333  14]\n",
      " [  4 326]]\n",
      "[[339   7]\n",
      " [  9 322]]\n",
      "[[358  10]\n",
      " [  4 305]]\n",
      "[[342  10]\n",
      " [  7 318]]\n",
      "[[350   9]\n",
      " [  2 316]]\n",
      "[[349  10]\n",
      " [  7 311]]\n",
      "[[344   6]\n",
      " [  1 326]]\n",
      "[[329  14]\n",
      " [  2 332]]\n",
      "0.9793205317577548\n"
     ]
    }
   ],
   "source": [
    "t_max_depth = tree.DecisionTreeClassifier(max_depth=5)\n",
    "scores = tree_cross_valid(t_max_depth, mushroom_data.to_numpy(), mushroom_target.to_numpy(), N=12, show_conf_mtrx=True)\n",
    "print(scores.mean())"
   ]
  },
  {
   "cell_type": "markdown",
   "metadata": {},
   "source": [
    "# Zadanie 5"
   ]
  },
  {
   "cell_type": "code",
   "execution_count": 128,
   "metadata": {},
   "outputs": [],
   "source": [
    "columns = [\"buying\", \"maint\", \"doors\", \"persons\", \"lug_boot\", \"safety\", \"target\"]\n",
    "\n",
    "url = 'http://archive.ics.uci.edu/ml/machine-learning-databases/car/car.data'\n",
    "car_df = pd.read_csv(url, header=None, names=columns)\n",
    "\n",
    "\n",
    "for name in columns:\n",
    "    car_df[name] = pd.Categorical(car_df[name]).codes\n",
    "    \n",
    "car_data = car_df.drop('target', axis = 1)\n",
    "car_target = car_df['target']"
   ]
  },
  {
   "cell_type": "code",
   "execution_count": 166,
   "metadata": {},
   "outputs": [
    {
     "name": "stdout",
     "output_type": "stream",
     "text": [
      "[[ 28   0   1   0]\n",
      " [  1   7   0   0]\n",
      " [  0   0 102   0]\n",
      " [  0   0   0   5]]\n",
      "[[30  0  1  0]\n",
      " [ 0  7  0  0]\n",
      " [ 2  0 99  0]\n",
      " [ 0  0  0  5]]\n",
      "[[37  1  0  1]\n",
      " [ 0  3  1  0]\n",
      " [ 0  1 96  0]\n",
      " [ 0  0  0  4]]\n",
      "[[ 24   0   1   0]\n",
      " [  0   5   0   0]\n",
      " [  0   0 110   0]\n",
      " [  0   0   0   4]]\n",
      "[[ 30   0   0   0]\n",
      " [  0   7   0   0]\n",
      " [  1   0 100   0]\n",
      " [  1   1   0   4]]\n",
      "[[29  0  0  0]\n",
      " [ 1  6  0  0]\n",
      " [ 0  0 99  0]\n",
      " [ 0  0  0  9]]\n",
      "[[ 33   1   4   0]\n",
      " [  1   1   0   0]\n",
      " [  1   0 100   0]\n",
      " [  0   0   0   3]]\n",
      "[[27  0  1  0]\n",
      " [ 1 12  0  0]\n",
      " [ 0  0 95  0]\n",
      " [ 0  0  0  8]]\n",
      "[[41  0  0  0]\n",
      " [ 0  3  0  0]\n",
      " [ 2  0 92  0]\n",
      " [ 1  0  0  5]]\n",
      "[[ 31   0   0   1]\n",
      " [  0   1   0   0]\n",
      " [  1   0 106   0]\n",
      " [  0   0   0   4]]\n",
      "[[ 27   0   1   0]\n",
      " [  0   7   0   0]\n",
      " [  2   0 100   0]\n",
      " [  0   0   0   7]]\n",
      "[[34  0  0  0]\n",
      " [ 0  5  0  0]\n",
      " [ 1  1 99  0]\n",
      " [ 0  0  0  4]]\n",
      "0.9809027777777777\n"
     ]
    }
   ],
   "source": [
    "t = tree.DecisionTreeClassifier()\n",
    "scores = tree_cross_valid(t, car_data.to_numpy(), car_target.to_numpy(), N=12, show_conf_mtrx=True)\n",
    "print(scores.mean())"
   ]
  },
  {
   "cell_type": "code",
   "execution_count": 180,
   "metadata": {},
   "outputs": [
    {
     "name": "stdout",
     "output_type": "stream",
     "text": [
      "[[23  0  0  1]\n",
      " [ 6  0  0  0]\n",
      " [14  0 89  0]\n",
      " [ 0  0  0 11]]\n",
      "[[23  3  0  2]\n",
      " [ 2  1  0  1]\n",
      " [13  1 91  0]\n",
      " [ 0  0  0  7]]\n",
      "[[26  0  2  1]\n",
      " [ 5  0  0  0]\n",
      " [11  0 95  0]\n",
      " [ 0  0  0  4]]\n",
      "[[28  4  0  4]\n",
      " [ 3  2  0  0]\n",
      " [ 8  0 88  0]\n",
      " [ 0  0  0  7]]\n",
      "[[37  6  0  2]\n",
      " [ 6  2  0  0]\n",
      " [ 6  0 82  0]\n",
      " [ 0  0  0  3]]\n",
      "[[27  0  0  1]\n",
      " [ 5  0  0  0]\n",
      " [12  0 95  0]\n",
      " [ 0  0  0  4]]\n",
      "[[23  0  5  3]\n",
      " [ 4  0  0  1]\n",
      " [ 6  0 95  0]\n",
      " [ 0  0  0  7]]\n",
      "[[ 22   0   0   3]\n",
      " [  5   0   0   2]\n",
      " [  8   0 100   0]\n",
      " [  0   0   0   4]]\n",
      "[[32  2  0  1]\n",
      " [ 6  1  0  1]\n",
      " [ 6  1 90  0]\n",
      " [ 0  0  0  4]]\n",
      "[[29  3  5  3]\n",
      " [ 4  2  0  3]\n",
      " [ 1  0 89  0]\n",
      " [ 0  0  0  5]]\n",
      "[[31  0  7  0]\n",
      " [ 3  0  0  0]\n",
      " [ 5  0 92  0]\n",
      " [ 0  0  0  6]]\n",
      "[[ 24   0   0   1]\n",
      " [  3   0   0   1]\n",
      " [ 11   0 101   0]\n",
      " [  0   0   0   3]]\n",
      "0.8709490740740743\n"
     ]
    }
   ],
   "source": [
    "t_max_depth = tree.DecisionTreeClassifier(max_depth=6)\n",
    "scores = tree_cross_valid(t_max_depth, car_data.to_numpy(), car_target.to_numpy(), N=12, show_conf_mtrx=True)\n",
    "print(scores.mean())"
   ]
  },
  {
   "cell_type": "markdown",
   "metadata": {},
   "source": [
    "# Zadanie 6"
   ]
  },
  {
   "cell_type": "code",
   "execution_count": 29,
   "metadata": {},
   "outputs": [
    {
     "name": "stdout",
     "output_type": "stream",
     "text": [
      "(45211, 17)\n"
     ]
    }
   ],
   "source": [
    "# columns = [\"age\", \"job\", \"marital\", \"education\", \"default\", \"balance\", \"housing\", \"loan\", \"contact\", \"day\", \"month\", \"duration\", \"campaign\", \"pdays\", \"previous\", \"poutcome\", \"y\"]\n",
    "\n",
    "categorical_cols = [\"job\", \"marital\", \"education\", \"default\", \"housing\", \"loan\", \"contact\", \"month\", \"poutcome\", \"y\"]\n",
    "\n",
    "bank_df = pd.read_csv('bank/bank-full.csv', sep=';', header=0)\n",
    "\n",
    "print(bank_df.shape)\n",
    "\n",
    "for name in categorical_cols:\n",
    "    bank_df[name] = pd.Categorical(bank_df[name]).codes\n",
    "bank_data = bank_df.drop('y', axis = 1)\n",
    "bank_target = bank_df['y']"
   ]
  },
  {
   "cell_type": "code",
   "execution_count": 30,
   "metadata": {},
   "outputs": [
    {
     "name": "stdout",
     "output_type": "stream",
     "text": [
      "[[1345   48]\n",
      " [ 104   62]]\n",
      "[[1337   46]\n",
      " [ 117   59]]\n",
      "[[1316   42]\n",
      " [ 109   92]]\n",
      "[[1321   35]\n",
      " [ 132   71]]\n",
      "[[1322   45]\n",
      " [ 134   58]]\n",
      "[[1332   41]\n",
      " [ 105   81]]\n",
      "[[1348   45]\n",
      " [ 112   54]]\n",
      "[[1332   54]\n",
      " [  91   82]]\n",
      "[[1339   56]\n",
      " [  89   75]]\n",
      "[[1314   59]\n",
      " [ 105   81]]\n",
      "[[1336   42]\n",
      " [ 116   65]]\n",
      "[[1342   44]\n",
      " [ 109   64]]\n",
      "[[1302   57]\n",
      " [ 120   80]]\n",
      "[[1336   39]\n",
      " [ 123   61]]\n",
      "[[1328   44]\n",
      " [ 130   57]]\n",
      "[[1329   38]\n",
      " [ 125   67]]\n",
      "[[1343   32]\n",
      " [ 116   68]]\n",
      "[[1329   45]\n",
      " [ 118   67]]\n",
      "[[1308   41]\n",
      " [ 142   68]]\n",
      "[[1340   39]\n",
      " [ 114   66]]\n",
      "[[1358   45]\n",
      " [  98   58]]\n",
      "[[1335   51]\n",
      " [ 105   68]]\n",
      "[[1316   57]\n",
      " [ 116   70]]\n",
      "[[1329   56]\n",
      " [  99   75]]\n",
      "[[1333   49]\n",
      " [ 111   66]]\n",
      "[[1323   51]\n",
      " [ 121   64]]\n",
      "[[1356   41]\n",
      " [ 106   56]]\n",
      "[[1317   40]\n",
      " [ 131   71]]\n",
      "[[1336   38]\n",
      " [ 121   64]]\n",
      "0.8973922275552412\n"
     ]
    }
   ],
   "source": [
    "t = tree.DecisionTreeClassifier(max_depth=5)\n",
    "scores = tree_cross_valid(t, bank_data.to_numpy(), bank_target.to_numpy(), N=29, show_conf_mtrx=True)\n",
    "print(scores.mean())"
   ]
  },
  {
   "cell_type": "markdown",
   "metadata": {},
   "source": [
    "# Zadanie 7"
   ]
  },
  {
   "cell_type": "code",
   "execution_count": 12,
   "metadata": {},
   "outputs": [],
   "source": [
    "human_data = []\n",
    "\n",
    "with open('UCI HAR Dataset/train/X_train.txt') as file:\n",
    "    for row in csv.reader(file, delimiter='\\n'):\n",
    "        human_data.append(row[0].split())\n",
    "        \n",
    "human_target = []\n",
    "with open('UCI HAR Dataset/train/y_train.txt') as file:\n",
    "    for row in csv.reader(file, delimiter='\\n'):\n",
    "        human_target.append(row[0])"
   ]
  },
  {
   "cell_type": "code",
   "execution_count": 18,
   "metadata": {},
   "outputs": [
    {
     "name": "stdout",
     "output_type": "stream",
     "text": [
      "[[131  10  13   0   0   0]\n",
      " [ 10 130   6   0   0   0]\n",
      " [  3  12  91   0   0   0]\n",
      " [  0   0   0 146   7   0]\n",
      " [  0   0   0  23 143   0]\n",
      " [  0   0   0   0   0 194]]\n",
      "[[139  18   5   0   0   0]\n",
      " [ 14 107   8   0   0   0]\n",
      " [  8   9 114   0   0   0]\n",
      " [  0   0   0 140  32   0]\n",
      " [  0   0   0   8 152   0]\n",
      " [  0   0   0   0   0 165]]\n",
      "[[155   9   4   0   0   0]\n",
      " [  9 115   5   0   0   0]\n",
      " [ 10  12  87   0   0   0]\n",
      " [  0   0   0 163  24   0]\n",
      " [  0   0   0   9 149   0]\n",
      " [  0   0   0   0   0 168]]\n",
      "[[158   9   1   0   0   0]\n",
      " [ 13 127   9   0   0   0]\n",
      " [  7  13  98   0   0   0]\n",
      " [  0   0   0 130  14   0]\n",
      " [  0   0   0  11 162   0]\n",
      " [  0   0   0   0   0 167]]\n",
      "[[122   4   7   0   0   0]\n",
      " [ 14 107   5   0   0   0]\n",
      " [  6   5 115   0   0   0]\n",
      " [  0   0   0 130  28   0]\n",
      " [  0   0   0  11 161   0]\n",
      " [  0   0   0   0   0 204]]\n",
      "[[132  13   0   0   0   0]\n",
      " [  5 113   5   0   0   0]\n",
      " [ 12  20 123   0   0   0]\n",
      " [  0   1   0 143  12   0]\n",
      " [  0   0   0  23 146   0]\n",
      " [  0   0   0   0   0 171]]\n",
      "[[133  10   3   0   0   0]\n",
      " [ 21 114   2   0   1   0]\n",
      " [ 15   2  96   0   0   0]\n",
      " [  0   0   0 153  14   0]\n",
      " [  0   0   0  26 157   0]\n",
      " [  0   0   0   0   0 172]]\n",
      "[[136   7   7   0   0   0]\n",
      " [ 13 118   2   0   0   0]\n",
      " [  8  12 108   0   0   0]\n",
      " [  0   0   0 138  11   0]\n",
      " [  0   0   0  18 175   0]\n",
      " [  0   0   0   0   0 166]]\n",
      "0.9064200217627856\n"
     ]
    }
   ],
   "source": [
    "t = tree.DecisionTreeClassifier(max_depth=5)\n",
    "scores = tree_cross_valid(t, np.array(human_data), np.array(human_target), N=8, show_conf_mtrx=True)\n",
    "print(scores.mean())"
   ]
  },
  {
   "cell_type": "code",
   "execution_count": 19,
   "metadata": {},
   "outputs": [
    {
     "name": "stdout",
     "output_type": "stream",
     "text": [
      "0.9150161119089815\n"
     ]
    }
   ],
   "source": [
    "rf_clf = RandomForestClassifier(n_estimators=20)\n",
    "\n",
    "scores = cross_val_score(rf_clf, np.array(human_data), np.array(human_target), cv=8)\n",
    "# print(scores)\n",
    "print(scores.mean())"
   ]
  },
  {
   "cell_type": "code",
   "execution_count": 21,
   "metadata": {},
   "outputs": [
    {
     "name": "stdout",
     "output_type": "stream",
     "text": [
      "0.9305170908111609\n"
     ]
    }
   ],
   "source": [
    "extra_rf_clf = ExtraTreesClassifier(n_estimators=20)\n",
    "scores = cross_val_score(extra_rf_clf, np.array(human_data), np.array(human_target), cv=8)\n",
    "# print(scores)\n",
    "print(scores.mean())"
   ]
  },
  {
   "cell_type": "code",
   "execution_count": null,
   "metadata": {},
   "outputs": [],
   "source": []
  }
 ],
 "metadata": {
  "kernelspec": {
   "display_name": "Python 3",
   "language": "python",
   "name": "python3"
  },
  "language_info": {
   "codemirror_mode": {
    "name": "ipython",
    "version": 3
   },
   "file_extension": ".py",
   "mimetype": "text/x-python",
   "name": "python",
   "nbconvert_exporter": "python",
   "pygments_lexer": "ipython3",
   "version": "3.7.4"
  }
 },
 "nbformat": 4,
 "nbformat_minor": 2
}
