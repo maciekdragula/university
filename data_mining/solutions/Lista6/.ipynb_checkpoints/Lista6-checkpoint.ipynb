{
 "cells": [
  {
   "cell_type": "code",
   "execution_count": 1,
   "metadata": {},
   "outputs": [],
   "source": [
    "import numpy as np\n",
    "import csv"
   ]
  },
  {
   "cell_type": "markdown",
   "metadata": {},
   "source": [
    "# Zadanie 1"
   ]
  },
  {
   "cell_type": "markdown",
   "metadata": {},
   "source": [
    "## Apriori"
   ]
  },
  {
   "cell_type": "code",
   "execution_count": 2,
   "metadata": {},
   "outputs": [],
   "source": [
    "def support(X, T):\n",
    "    (N, M) = T.shape\n",
    "    C = np.zeros(M)\n",
    "    np.put(C, list(X), 1)\n",
    "    C.reshape(-1, 1)\n",
    "    D = np.dot(T, C)\n",
    "    D = (D == len(X))\n",
    "    return sum(D) / N"
   ]
  },
  {
   "cell_type": "code",
   "execution_count": 3,
   "metadata": {},
   "outputs": [],
   "source": [
    "def is_frequent(cand, T, min_supp):\n",
    "    return support(cand, T) >= min_supp"
   ]
  },
  {
   "cell_type": "code",
   "execution_count": 4,
   "metadata": {},
   "outputs": [],
   "source": [
    "def frequent_objects(T, min_supp):\n",
    "    N = len(T)\n",
    "    \n",
    "    count = {}\n",
    "    for t in T:\n",
    "        for item in t:\n",
    "            if item not in count:\n",
    "                count[item] = 1\n",
    "            else:\n",
    "                count[item] += 1\n",
    "    \n",
    "    return [item for (item, val) in count.items() if val / N >= min_supp]"
   ]
  },
  {
   "cell_type": "code",
   "execution_count": 5,
   "metadata": {},
   "outputs": [],
   "source": [
    "def reduce_transactions(T, F):\n",
    "    res = np.zeros((len(T), len(F)))\n",
    "    for i in range(len(T)):\n",
    "        for j in range(len(F)):\n",
    "            if F[j] in T[i]:\n",
    "                res[i, j] = 1\n",
    "    return res"
   ]
  },
  {
   "cell_type": "code",
   "execution_count": 6,
   "metadata": {},
   "outputs": [],
   "source": [
    "def frequent_sets(T, F, min_supp=0.4):\n",
    "    L = [{i} for i in range(len(F))]\n",
    "    res = []\n",
    "    while len(L) != 0:\n",
    "        res += L\n",
    "        newL = []\n",
    "        for i in range(len(L)):\n",
    "            s1 = L[i]\n",
    "            for j in range(i + 1, len(L)):\n",
    "                s2 = L[j]\n",
    "                if len(s1 & s2) == len(s1) - 1 and len(s1 ^ s2) == 2 and ((s1 | s2) not in newL):\n",
    "                    newL.append(s1 | s2)\n",
    "        L = list(filter(lambda x: is_frequent(x, T, min_supp), newL))\n",
    "    return res"
   ]
  },
  {
   "cell_type": "code",
   "execution_count": 7,
   "metadata": {},
   "outputs": [],
   "source": [
    "def is_confident(A, B, T, min_conf):\n",
    "    return support(A | B, T) / support(A, T) >= min_conf"
   ]
  },
  {
   "cell_type": "code",
   "execution_count": 8,
   "metadata": {},
   "outputs": [],
   "source": [
    "def assoc_rules(S, T, min_conf=0.75):\n",
    "    res = []\n",
    "    S = [(s, set()) for s in S]\n",
    "    while len(S) != 0:\n",
    "        res += S\n",
    "        newS = []\n",
    "        for (A, B) in S:\n",
    "            for x in A:\n",
    "                A.remove(x)\n",
    "                B.add(x)\n",
    "                if is_confident(A, B, T, min_conf):\n",
    "                    newS.append((A.copy(), B.copy()))\n",
    "                A.add(x)\n",
    "                B.remove(x)\n",
    "        S = newS\n",
    "    return res"
   ]
  },
  {
   "cell_type": "code",
   "execution_count": 9,
   "metadata": {},
   "outputs": [],
   "source": [
    "def clean_rules(R, F, ids_to_names):\n",
    "    res = []\n",
    "    for (A, B) in R:\n",
    "        if len(A) == 0 or len(B) == 0:\n",
    "            continue\n",
    "        clean_A = {ids_to_names[F[i]] for i in A}\n",
    "        clean_B = {ids_to_names[F[i]] for i in B}\n",
    "        res.append((clean_A, clean_B))\n",
    "    return res"
   ]
  },
  {
   "cell_type": "markdown",
   "metadata": {},
   "source": [
    "## Simple example"
   ]
  },
  {
   "cell_type": "code",
   "execution_count": 270,
   "metadata": {},
   "outputs": [],
   "source": [
    "all_transactions = []\n",
    "\n",
    "with open('Lista06Dane0/exmpl.csv') as file:\n",
    "    csv_reader = csv.reader(file, delimiter=',')\n",
    "    for row in csv_reader:\n",
    "        all_transations.append(row)\n",
    "\n",
    "products_names = list(set([item for sublist in all_transactions for item in sublist]))\n",
    "names_to_ids = {products_names[i]: i for i in range(len(products_names))}\n",
    "ids_to_names = {i: products_names[i] for i in range(len(products_names))}\n",
    "T = [{names_to_ids[item] for item in tr} for tr in all_transations]"
   ]
  },
  {
   "cell_type": "code",
   "execution_count": 271,
   "metadata": {},
   "outputs": [],
   "source": [
    "F = frequent_objects(T, 0.4)\n",
    "T_red= reduce_transactions(T, F)\n",
    "S = frequent_sets(T_red, F, 0.4)"
   ]
  },
  {
   "cell_type": "code",
   "execution_count": 272,
   "metadata": {},
   "outputs": [
    {
     "name": "stdout",
     "output_type": "stream",
     "text": [
      "[({'lettuce'}, {'tomatoes'})]\n"
     ]
    }
   ],
   "source": [
    "R = assoc_rules(S, T_red, 0.75)\n",
    "R_clean = clean_rules(R, F, ids_to_names)\n",
    "print(R_clean)"
   ]
  },
  {
   "cell_type": "markdown",
   "metadata": {},
   "source": [
    "# Zadanie 2"
   ]
  },
  {
   "cell_type": "code",
   "execution_count": 273,
   "metadata": {},
   "outputs": [],
   "source": [
    "all_transactions = []\n",
    "\n",
    "with open('Lista06Dane1/retail.dat') as file:\n",
    "    csv_reader = csv.reader(file, delimiter=' ')\n",
    "    for row in csv_reader:\n",
    "        all_transations.append(row[:-1])\n",
    "\n",
    "products_names = list(set([item for sublist in all_transactions for item in sublist]))\n",
    "names_to_ids = {products_names[i]: i for i in range(len(products_names))}\n",
    "ids_to_names = {i: products_names[i] for i in range(len(products_names))}\n",
    "T = [{names_to_ids[item] for item in tr} for tr in all_transations]"
   ]
  },
  {
   "cell_type": "code",
   "execution_count": 274,
   "metadata": {},
   "outputs": [],
   "source": [
    "F = frequent_objects(T, 0.05)\n",
    "T_red= reduce_transactions(T, F)\n",
    "S = frequent_sets(T_red, F, 0.05)"
   ]
  },
  {
   "cell_type": "code",
   "execution_count": 275,
   "metadata": {},
   "outputs": [
    {
     "name": "stdout",
     "output_type": "stream",
     "text": [
      "[({'41'}, {'39'}), ({'38', '48'}, {'39'}), ({'41', '48'}, {'39'})]\n"
     ]
    }
   ],
   "source": [
    "R = assoc_rules(S, T_red, 0.75)\n",
    "R_clean = clean_rules(R, F, ids_to_names)\n",
    "print(R_clean)"
   ]
  },
  {
   "cell_type": "markdown",
   "metadata": {},
   "source": [
    "# Zadanie 3"
   ]
  },
  {
   "cell_type": "code",
   "execution_count": 276,
   "metadata": {},
   "outputs": [],
   "source": [
    "all_transactions = []\n",
    "\n",
    "with open('Lista06Dane2/kosarak.dat') as file:\n",
    "    csv_reader = csv.reader(file, delimiter=' ')\n",
    "    for row in csv_reader:\n",
    "        all_transations.append(row[:-1])\n",
    "\n",
    "products_names = list(set([item for sublist in all_transactions for item in sublist]))\n",
    "names_to_ids = {products_names[i]: i for i in range(len(products_names))}\n",
    "ids_to_names = {i: products_names[i] for i in range(len(products_names))}\n",
    "T = [{names_to_ids[item] for item in tr} for tr in all_transations]"
   ]
  },
  {
   "cell_type": "code",
   "execution_count": 277,
   "metadata": {},
   "outputs": [],
   "source": [
    "F = frequent_objects(T, 0.05)\n",
    "T_red= reduce_transactions(T, F)\n",
    "S = frequent_sets(T_red, F, 0.05)"
   ]
  },
  {
   "cell_type": "code",
   "execution_count": 279,
   "metadata": {},
   "outputs": [
    {
     "name": "stdout",
     "output_type": "stream",
     "text": [
      "[({'11'}, {'6'}), ({'27'}, {'6'}), ({'7'}, {'6'}), ({'218'}, {'6'}), ({'11', '1'}, {'6'}), ({'3', '11'}, {'6'}), ({'7', '11'}, {'6'}), ({'7', '6'}, {'11'}), ({'11', '218'}, {'6'}), ({'6', '218'}, {'11'})]\n"
     ]
    }
   ],
   "source": [
    "R = assoc_rules(S, T_red, 0.75)\n",
    "R_clean = clean_rules(R, F, ids_to_names)\n",
    "print(R_clean)"
   ]
  },
  {
   "cell_type": "markdown",
   "metadata": {},
   "source": [
    "# Zadanie 4"
   ]
  },
  {
   "cell_type": "markdown",
   "metadata": {},
   "source": [
    "## D01"
   ]
  },
  {
   "cell_type": "code",
   "execution_count": 84,
   "metadata": {},
   "outputs": [],
   "source": [
    "all_transactions = {}\n",
    "\n",
    "with open('Lista06Dane3/D01', 'rb') as file:\n",
    "    content = file.readlines()[1:]\n",
    "    \n",
    "for x in content:\n",
    "    line = str(x.strip()).split(';')\n",
    "    customer_id = int(line[1])\n",
    "    product_id = int(line[5])\n",
    "    if customer_id not in all_transactions:\n",
    "        all_transactions[customer_id] = []\n",
    "    all_transactions[customer_id].append(product_id)\n",
    "\n",
    "products_names = list(set([item for sublist in all_transactions.values() for item in sublist]))\n",
    "names_to_ids = {products_names[i]: i for i in range(len(products_names))}\n",
    "ids_to_names = {i: products_names[i] for i in range(len(products_names))}\n",
    "T = [{names_to_ids[item] for item in tr} for tr in all_transactions.values()]"
   ]
  },
  {
   "cell_type": "code",
   "execution_count": 85,
   "metadata": {},
   "outputs": [
    {
     "ename": "KeyboardInterrupt",
     "evalue": "",
     "output_type": "error",
     "traceback": [
      "\u001b[0;31m---------------------------------------------------------------------------\u001b[0m",
      "\u001b[0;31mKeyboardInterrupt\u001b[0m                         Traceback (most recent call last)",
      "\u001b[0;32m<ipython-input-85-36085f1dd1c7>\u001b[0m in \u001b[0;36m<module>\u001b[0;34m\u001b[0m\n\u001b[1;32m      1\u001b[0m \u001b[0mF\u001b[0m \u001b[0;34m=\u001b[0m \u001b[0mfrequent_objects\u001b[0m\u001b[0;34m(\u001b[0m\u001b[0mT\u001b[0m\u001b[0;34m,\u001b[0m \u001b[0;36m0.01\u001b[0m\u001b[0;34m)\u001b[0m\u001b[0;34m\u001b[0m\u001b[0;34m\u001b[0m\u001b[0m\n\u001b[1;32m      2\u001b[0m \u001b[0mT_red\u001b[0m\u001b[0;34m=\u001b[0m \u001b[0mreduce_transactions\u001b[0m\u001b[0;34m(\u001b[0m\u001b[0mT\u001b[0m\u001b[0;34m,\u001b[0m \u001b[0mF\u001b[0m\u001b[0;34m)\u001b[0m\u001b[0;34m\u001b[0m\u001b[0;34m\u001b[0m\u001b[0m\n\u001b[0;32m----> 3\u001b[0;31m \u001b[0mS\u001b[0m \u001b[0;34m=\u001b[0m \u001b[0mfrequent_sets\u001b[0m\u001b[0;34m(\u001b[0m\u001b[0mT_red\u001b[0m\u001b[0;34m,\u001b[0m \u001b[0mF\u001b[0m\u001b[0;34m,\u001b[0m \u001b[0;36m0.01\u001b[0m\u001b[0;34m)\u001b[0m\u001b[0;34m\u001b[0m\u001b[0;34m\u001b[0m\u001b[0m\n\u001b[0m",
      "\u001b[0;32m<ipython-input-6-b45f4d15382a>\u001b[0m in \u001b[0;36mfrequent_sets\u001b[0;34m(T, F, min_supp)\u001b[0m\n\u001b[1;32m     11\u001b[0m                 \u001b[0;32mif\u001b[0m \u001b[0mlen\u001b[0m\u001b[0;34m(\u001b[0m\u001b[0ms1\u001b[0m \u001b[0;34m&\u001b[0m \u001b[0ms2\u001b[0m\u001b[0;34m)\u001b[0m \u001b[0;34m==\u001b[0m \u001b[0mlen\u001b[0m\u001b[0;34m(\u001b[0m\u001b[0ms1\u001b[0m\u001b[0;34m)\u001b[0m \u001b[0;34m-\u001b[0m \u001b[0;36m1\u001b[0m \u001b[0;32mand\u001b[0m \u001b[0mlen\u001b[0m\u001b[0;34m(\u001b[0m\u001b[0ms1\u001b[0m \u001b[0;34m^\u001b[0m \u001b[0ms2\u001b[0m\u001b[0;34m)\u001b[0m \u001b[0;34m==\u001b[0m \u001b[0;36m2\u001b[0m \u001b[0;32mand\u001b[0m \u001b[0;34m(\u001b[0m\u001b[0;34m(\u001b[0m\u001b[0ms1\u001b[0m \u001b[0;34m|\u001b[0m \u001b[0ms2\u001b[0m\u001b[0;34m)\u001b[0m \u001b[0;32mnot\u001b[0m \u001b[0;32min\u001b[0m \u001b[0mnewL\u001b[0m\u001b[0;34m)\u001b[0m\u001b[0;34m:\u001b[0m\u001b[0;34m\u001b[0m\u001b[0;34m\u001b[0m\u001b[0m\n\u001b[1;32m     12\u001b[0m                     \u001b[0mnewL\u001b[0m\u001b[0;34m.\u001b[0m\u001b[0mappend\u001b[0m\u001b[0;34m(\u001b[0m\u001b[0ms1\u001b[0m \u001b[0;34m|\u001b[0m \u001b[0ms2\u001b[0m\u001b[0;34m)\u001b[0m\u001b[0;34m\u001b[0m\u001b[0;34m\u001b[0m\u001b[0m\n\u001b[0;32m---> 13\u001b[0;31m         \u001b[0mL\u001b[0m \u001b[0;34m=\u001b[0m \u001b[0mlist\u001b[0m\u001b[0;34m(\u001b[0m\u001b[0mfilter\u001b[0m\u001b[0;34m(\u001b[0m\u001b[0;32mlambda\u001b[0m \u001b[0mx\u001b[0m\u001b[0;34m:\u001b[0m \u001b[0mis_frequent\u001b[0m\u001b[0;34m(\u001b[0m\u001b[0mx\u001b[0m\u001b[0;34m,\u001b[0m \u001b[0mT\u001b[0m\u001b[0;34m,\u001b[0m \u001b[0mmin_supp\u001b[0m\u001b[0;34m)\u001b[0m\u001b[0;34m,\u001b[0m \u001b[0mnewL\u001b[0m\u001b[0;34m)\u001b[0m\u001b[0;34m)\u001b[0m\u001b[0;34m\u001b[0m\u001b[0;34m\u001b[0m\u001b[0m\n\u001b[0m\u001b[1;32m     14\u001b[0m     \u001b[0;32mreturn\u001b[0m \u001b[0mres\u001b[0m\u001b[0;34m\u001b[0m\u001b[0;34m\u001b[0m\u001b[0m\n",
      "\u001b[0;32m<ipython-input-6-b45f4d15382a>\u001b[0m in \u001b[0;36m<lambda>\u001b[0;34m(x)\u001b[0m\n\u001b[1;32m     11\u001b[0m                 \u001b[0;32mif\u001b[0m \u001b[0mlen\u001b[0m\u001b[0;34m(\u001b[0m\u001b[0ms1\u001b[0m \u001b[0;34m&\u001b[0m \u001b[0ms2\u001b[0m\u001b[0;34m)\u001b[0m \u001b[0;34m==\u001b[0m \u001b[0mlen\u001b[0m\u001b[0;34m(\u001b[0m\u001b[0ms1\u001b[0m\u001b[0;34m)\u001b[0m \u001b[0;34m-\u001b[0m \u001b[0;36m1\u001b[0m \u001b[0;32mand\u001b[0m \u001b[0mlen\u001b[0m\u001b[0;34m(\u001b[0m\u001b[0ms1\u001b[0m \u001b[0;34m^\u001b[0m \u001b[0ms2\u001b[0m\u001b[0;34m)\u001b[0m \u001b[0;34m==\u001b[0m \u001b[0;36m2\u001b[0m \u001b[0;32mand\u001b[0m \u001b[0;34m(\u001b[0m\u001b[0;34m(\u001b[0m\u001b[0ms1\u001b[0m \u001b[0;34m|\u001b[0m \u001b[0ms2\u001b[0m\u001b[0;34m)\u001b[0m \u001b[0;32mnot\u001b[0m \u001b[0;32min\u001b[0m \u001b[0mnewL\u001b[0m\u001b[0;34m)\u001b[0m\u001b[0;34m:\u001b[0m\u001b[0;34m\u001b[0m\u001b[0;34m\u001b[0m\u001b[0m\n\u001b[1;32m     12\u001b[0m                     \u001b[0mnewL\u001b[0m\u001b[0;34m.\u001b[0m\u001b[0mappend\u001b[0m\u001b[0;34m(\u001b[0m\u001b[0ms1\u001b[0m \u001b[0;34m|\u001b[0m \u001b[0ms2\u001b[0m\u001b[0;34m)\u001b[0m\u001b[0;34m\u001b[0m\u001b[0;34m\u001b[0m\u001b[0m\n\u001b[0;32m---> 13\u001b[0;31m         \u001b[0mL\u001b[0m \u001b[0;34m=\u001b[0m \u001b[0mlist\u001b[0m\u001b[0;34m(\u001b[0m\u001b[0mfilter\u001b[0m\u001b[0;34m(\u001b[0m\u001b[0;32mlambda\u001b[0m \u001b[0mx\u001b[0m\u001b[0;34m:\u001b[0m \u001b[0mis_frequent\u001b[0m\u001b[0;34m(\u001b[0m\u001b[0mx\u001b[0m\u001b[0;34m,\u001b[0m \u001b[0mT\u001b[0m\u001b[0;34m,\u001b[0m \u001b[0mmin_supp\u001b[0m\u001b[0;34m)\u001b[0m\u001b[0;34m,\u001b[0m \u001b[0mnewL\u001b[0m\u001b[0;34m)\u001b[0m\u001b[0;34m)\u001b[0m\u001b[0;34m\u001b[0m\u001b[0;34m\u001b[0m\u001b[0m\n\u001b[0m\u001b[1;32m     14\u001b[0m     \u001b[0;32mreturn\u001b[0m \u001b[0mres\u001b[0m\u001b[0;34m\u001b[0m\u001b[0;34m\u001b[0m\u001b[0m\n",
      "\u001b[0;32m<ipython-input-3-59357064e9c5>\u001b[0m in \u001b[0;36mis_frequent\u001b[0;34m(cand, T, min_supp)\u001b[0m\n\u001b[1;32m      1\u001b[0m \u001b[0;32mdef\u001b[0m \u001b[0mis_frequent\u001b[0m\u001b[0;34m(\u001b[0m\u001b[0mcand\u001b[0m\u001b[0;34m,\u001b[0m \u001b[0mT\u001b[0m\u001b[0;34m,\u001b[0m \u001b[0mmin_supp\u001b[0m\u001b[0;34m)\u001b[0m\u001b[0;34m:\u001b[0m\u001b[0;34m\u001b[0m\u001b[0;34m\u001b[0m\u001b[0m\n\u001b[0;32m----> 2\u001b[0;31m     \u001b[0;32mreturn\u001b[0m \u001b[0msupport\u001b[0m\u001b[0;34m(\u001b[0m\u001b[0mcand\u001b[0m\u001b[0;34m,\u001b[0m \u001b[0mT\u001b[0m\u001b[0;34m)\u001b[0m \u001b[0;34m>=\u001b[0m \u001b[0mmin_supp\u001b[0m\u001b[0;34m\u001b[0m\u001b[0;34m\u001b[0m\u001b[0m\n\u001b[0m",
      "\u001b[0;32m<ipython-input-2-1f4fff441516>\u001b[0m in \u001b[0;36msupport\u001b[0;34m(X, T)\u001b[0m\n\u001b[1;32m      6\u001b[0m     \u001b[0mD\u001b[0m \u001b[0;34m=\u001b[0m \u001b[0mnp\u001b[0m\u001b[0;34m.\u001b[0m\u001b[0mdot\u001b[0m\u001b[0;34m(\u001b[0m\u001b[0mT\u001b[0m\u001b[0;34m,\u001b[0m \u001b[0mC\u001b[0m\u001b[0;34m)\u001b[0m\u001b[0;34m\u001b[0m\u001b[0;34m\u001b[0m\u001b[0m\n\u001b[1;32m      7\u001b[0m     \u001b[0mD\u001b[0m \u001b[0;34m=\u001b[0m \u001b[0;34m(\u001b[0m\u001b[0mD\u001b[0m \u001b[0;34m==\u001b[0m \u001b[0mlen\u001b[0m\u001b[0;34m(\u001b[0m\u001b[0mX\u001b[0m\u001b[0;34m)\u001b[0m\u001b[0;34m)\u001b[0m\u001b[0;34m\u001b[0m\u001b[0;34m\u001b[0m\u001b[0m\n\u001b[0;32m----> 8\u001b[0;31m     \u001b[0;32mreturn\u001b[0m \u001b[0msum\u001b[0m\u001b[0;34m(\u001b[0m\u001b[0mD\u001b[0m\u001b[0;34m)\u001b[0m \u001b[0;34m/\u001b[0m \u001b[0mN\u001b[0m\u001b[0;34m\u001b[0m\u001b[0;34m\u001b[0m\u001b[0m\n\u001b[0m",
      "\u001b[0;31mKeyboardInterrupt\u001b[0m: "
     ]
    }
   ],
   "source": [
    "F = frequent_objects(T, 0.01)\n",
    "T_red= reduce_transactions(T, F)\n",
    "S = frequent_sets(T_red, F, 0.01)"
   ]
  },
  {
   "cell_type": "code",
   "execution_count": 83,
   "metadata": {},
   "outputs": [
    {
     "name": "stdout",
     "output_type": "stream",
     "text": [
      "[({4710011409056}, {4710011401128}), ({4710011401135}, {4710011401128})]\n"
     ]
    }
   ],
   "source": [
    "R = assoc_rules(S, T_red, 0.75)\n",
    "R_clean = clean_rules(R, F, ids_to_names)\n",
    "print(R_clean)"
   ]
  },
  {
   "cell_type": "markdown",
   "metadata": {},
   "source": [
    "## D02"
   ]
  },
  {
   "cell_type": "code",
   "execution_count": null,
   "metadata": {},
   "outputs": [],
   "source": [
    "all_transactions = {}\n",
    "\n",
    "with open('Lista06Dane3/D02', 'rb') as file:\n",
    "    content = file.readlines()[1:]\n",
    "    \n",
    "for x in content:\n",
    "    line = str(x.strip()).split(';')\n",
    "    customer_id = int(line[1])\n",
    "    product_id = int(line[5])\n",
    "    if customer_id not in all_transactions:\n",
    "        all_transactions[customer_id] = []\n",
    "    all_transactions[customer_id].append(product_id)\n",
    "\n",
    "products_names = list(set([item for sublist in all_transactions.values() for item in sublist]))\n",
    "names_to_ids = {products_names[i]: i for i in range(len(products_names))}\n",
    "ids_to_names = {i: products_names[i] for i in range(len(products_names))}\n",
    "T = [{names_to_ids[item] for item in tr} for tr in all_transactions.values()]"
   ]
  },
  {
   "cell_type": "code",
   "execution_count": 86,
   "metadata": {
    "scrolled": true
   },
   "outputs": [
    {
     "ename": "KeyboardInterrupt",
     "evalue": "",
     "output_type": "error",
     "traceback": [
      "\u001b[0;31m---------------------------------------------------------------------------\u001b[0m",
      "\u001b[0;31mKeyboardInterrupt\u001b[0m                         Traceback (most recent call last)",
      "\u001b[0;32m<ipython-input-86-36085f1dd1c7>\u001b[0m in \u001b[0;36m<module>\u001b[0;34m\u001b[0m\n\u001b[1;32m      1\u001b[0m \u001b[0mF\u001b[0m \u001b[0;34m=\u001b[0m \u001b[0mfrequent_objects\u001b[0m\u001b[0;34m(\u001b[0m\u001b[0mT\u001b[0m\u001b[0;34m,\u001b[0m \u001b[0;36m0.01\u001b[0m\u001b[0;34m)\u001b[0m\u001b[0;34m\u001b[0m\u001b[0;34m\u001b[0m\u001b[0m\n\u001b[1;32m      2\u001b[0m \u001b[0mT_red\u001b[0m\u001b[0;34m=\u001b[0m \u001b[0mreduce_transactions\u001b[0m\u001b[0;34m(\u001b[0m\u001b[0mT\u001b[0m\u001b[0;34m,\u001b[0m \u001b[0mF\u001b[0m\u001b[0;34m)\u001b[0m\u001b[0;34m\u001b[0m\u001b[0;34m\u001b[0m\u001b[0m\n\u001b[0;32m----> 3\u001b[0;31m \u001b[0mS\u001b[0m \u001b[0;34m=\u001b[0m \u001b[0mfrequent_sets\u001b[0m\u001b[0;34m(\u001b[0m\u001b[0mT_red\u001b[0m\u001b[0;34m,\u001b[0m \u001b[0mF\u001b[0m\u001b[0;34m,\u001b[0m \u001b[0;36m0.01\u001b[0m\u001b[0;34m)\u001b[0m\u001b[0;34m\u001b[0m\u001b[0;34m\u001b[0m\u001b[0m\n\u001b[0m",
      "\u001b[0;32m<ipython-input-6-b45f4d15382a>\u001b[0m in \u001b[0;36mfrequent_sets\u001b[0;34m(T, F, min_supp)\u001b[0m\n\u001b[1;32m      9\u001b[0m             \u001b[0;32mfor\u001b[0m \u001b[0mj\u001b[0m \u001b[0;32min\u001b[0m \u001b[0mrange\u001b[0m\u001b[0;34m(\u001b[0m\u001b[0mi\u001b[0m \u001b[0;34m+\u001b[0m \u001b[0;36m1\u001b[0m\u001b[0;34m,\u001b[0m \u001b[0mlen\u001b[0m\u001b[0;34m(\u001b[0m\u001b[0mL\u001b[0m\u001b[0;34m)\u001b[0m\u001b[0;34m)\u001b[0m\u001b[0;34m:\u001b[0m\u001b[0;34m\u001b[0m\u001b[0;34m\u001b[0m\u001b[0m\n\u001b[1;32m     10\u001b[0m                 \u001b[0ms2\u001b[0m \u001b[0;34m=\u001b[0m \u001b[0mL\u001b[0m\u001b[0;34m[\u001b[0m\u001b[0mj\u001b[0m\u001b[0;34m]\u001b[0m\u001b[0;34m\u001b[0m\u001b[0;34m\u001b[0m\u001b[0m\n\u001b[0;32m---> 11\u001b[0;31m                 \u001b[0;32mif\u001b[0m \u001b[0mlen\u001b[0m\u001b[0;34m(\u001b[0m\u001b[0ms1\u001b[0m \u001b[0;34m&\u001b[0m \u001b[0ms2\u001b[0m\u001b[0;34m)\u001b[0m \u001b[0;34m==\u001b[0m \u001b[0mlen\u001b[0m\u001b[0;34m(\u001b[0m\u001b[0ms1\u001b[0m\u001b[0;34m)\u001b[0m \u001b[0;34m-\u001b[0m \u001b[0;36m1\u001b[0m \u001b[0;32mand\u001b[0m \u001b[0mlen\u001b[0m\u001b[0;34m(\u001b[0m\u001b[0ms1\u001b[0m \u001b[0;34m^\u001b[0m \u001b[0ms2\u001b[0m\u001b[0;34m)\u001b[0m \u001b[0;34m==\u001b[0m \u001b[0;36m2\u001b[0m \u001b[0;32mand\u001b[0m \u001b[0;34m(\u001b[0m\u001b[0;34m(\u001b[0m\u001b[0ms1\u001b[0m \u001b[0;34m|\u001b[0m \u001b[0ms2\u001b[0m\u001b[0;34m)\u001b[0m \u001b[0;32mnot\u001b[0m \u001b[0;32min\u001b[0m \u001b[0mnewL\u001b[0m\u001b[0;34m)\u001b[0m\u001b[0;34m:\u001b[0m\u001b[0;34m\u001b[0m\u001b[0;34m\u001b[0m\u001b[0m\n\u001b[0m\u001b[1;32m     12\u001b[0m                     \u001b[0mnewL\u001b[0m\u001b[0;34m.\u001b[0m\u001b[0mappend\u001b[0m\u001b[0;34m(\u001b[0m\u001b[0ms1\u001b[0m \u001b[0;34m|\u001b[0m \u001b[0ms2\u001b[0m\u001b[0;34m)\u001b[0m\u001b[0;34m\u001b[0m\u001b[0;34m\u001b[0m\u001b[0m\n\u001b[1;32m     13\u001b[0m         \u001b[0mL\u001b[0m \u001b[0;34m=\u001b[0m \u001b[0mlist\u001b[0m\u001b[0;34m(\u001b[0m\u001b[0mfilter\u001b[0m\u001b[0;34m(\u001b[0m\u001b[0;32mlambda\u001b[0m \u001b[0mx\u001b[0m\u001b[0;34m:\u001b[0m \u001b[0mis_frequent\u001b[0m\u001b[0;34m(\u001b[0m\u001b[0mx\u001b[0m\u001b[0;34m,\u001b[0m \u001b[0mT\u001b[0m\u001b[0;34m,\u001b[0m \u001b[0mmin_supp\u001b[0m\u001b[0;34m)\u001b[0m\u001b[0;34m,\u001b[0m \u001b[0mnewL\u001b[0m\u001b[0;34m)\u001b[0m\u001b[0;34m)\u001b[0m\u001b[0;34m\u001b[0m\u001b[0;34m\u001b[0m\u001b[0m\n",
      "\u001b[0;31mKeyboardInterrupt\u001b[0m: "
     ]
    }
   ],
   "source": [
    "F = frequent_objects(T, 0.01)\n",
    "T_red= reduce_transactions(T, F)\n",
    "S = frequent_sets(T_red, F, 0.01)"
   ]
  },
  {
   "cell_type": "code",
   "execution_count": null,
   "metadata": {},
   "outputs": [],
   "source": [
    "R = assoc_rules(S, T_red, 0.75)\n",
    "R_clean = clean_rules(R, F, ids_to_names)\n",
    "print(R_clean)"
   ]
  },
  {
   "cell_type": "markdown",
   "metadata": {},
   "source": [
    "## D11"
   ]
  },
  {
   "cell_type": "code",
   "execution_count": null,
   "metadata": {},
   "outputs": [],
   "source": [
    "all_transactions = {}\n",
    "\n",
    "with open('Lista06Dane3/D11', 'rb') as file:\n",
    "    content = file.readlines()[1:]\n",
    "    \n",
    "for x in content:\n",
    "    line = str(x.strip()).split(';')\n",
    "    customer_id = int(line[1])\n",
    "    product_id = int(line[5])\n",
    "    if customer_id not in all_transactions:\n",
    "        all_transactions[customer_id] = []\n",
    "    all_transactions[customer_id].append(product_id)\n",
    "\n",
    "products_names = list(set([item for sublist in all_transactions.values() for item in sublist]))\n",
    "names_to_ids = {products_names[i]: i for i in range(len(products_names))}\n",
    "ids_to_names = {i: products_names[i] for i in range(len(products_names))}\n",
    "T = [{names_to_ids[item] for item in tr} for tr in all_transactions.values()]"
   ]
  },
  {
   "cell_type": "code",
   "execution_count": null,
   "metadata": {},
   "outputs": [],
   "source": [
    "F = frequent_objects(T, 0.01)\n",
    "T_red= reduce_transactions(T, F)\n",
    "S = frequent_sets(T_red, F, 0.01)"
   ]
  },
  {
   "cell_type": "code",
   "execution_count": null,
   "metadata": {},
   "outputs": [],
   "source": [
    "R = assoc_rules(S, T_red, 0.75)\n",
    "R_clean = clean_rules(R, F, ids_to_names)\n",
    "print(R_clean)"
   ]
  },
  {
   "cell_type": "markdown",
   "metadata": {},
   "source": [
    "# D12"
   ]
  },
  {
   "cell_type": "code",
   "execution_count": null,
   "metadata": {},
   "outputs": [],
   "source": [
    "all_transactions = {}\n",
    "\n",
    "with open('Lista06Dane3/D12', 'rb') as file:\n",
    "    content = file.readlines()[1:]\n",
    "    \n",
    "for x in content:\n",
    "    line = str(x.strip()).split(';')\n",
    "    customer_id = int(line[1])\n",
    "    product_id = int(line[5])\n",
    "    if customer_id not in all_transactions:\n",
    "        all_transactions[customer_id] = []\n",
    "    all_transactions[customer_id].append(product_id)\n",
    "\n",
    "products_names = list(set([item for sublist in all_transactions.values() for item in sublist]))\n",
    "names_to_ids = {products_names[i]: i for i in range(len(products_names))}\n",
    "ids_to_names = {i: products_names[i] for i in range(len(products_names))}\n",
    "T = [{names_to_ids[item] for item in tr} for tr in all_transactions.values()]"
   ]
  },
  {
   "cell_type": "code",
   "execution_count": null,
   "metadata": {},
   "outputs": [],
   "source": [
    "F = frequent_objects(T, 0.01)\n",
    "T_red= reduce_transactions(T, F)\n",
    "S = frequent_sets(T_red, F, 0.01)"
   ]
  },
  {
   "cell_type": "code",
   "execution_count": null,
   "metadata": {},
   "outputs": [],
   "source": [
    "R = assoc_rules(S, T_red, 0.75)\n",
    "R_clean = clean_rules(R, F, ids_to_names)\n",
    "print(R_clean)"
   ]
  }
 ],
 "metadata": {
  "kernelspec": {
   "display_name": "Python 3",
   "language": "python",
   "name": "python3"
  },
  "language_info": {
   "codemirror_mode": {
    "name": "ipython",
    "version": 3
   },
   "file_extension": ".py",
   "mimetype": "text/x-python",
   "name": "python",
   "nbconvert_exporter": "python",
   "pygments_lexer": "ipython3",
   "version": "3.7.4"
  }
 },
 "nbformat": 4,
 "nbformat_minor": 2
}
